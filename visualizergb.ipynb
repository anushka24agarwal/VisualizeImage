{
  "cells": [
    {
      "cell_type": "markdown",
      "metadata": {
        "id": "xpTBWXPHiinL"
      },
      "source": [
        "\n",
        "Visualizing the Data\n",
        "--------------------\n",
        "You have been given the red, green, and blue channels of an image that were taken separately using this technique. These files are named red.npy, green.npy, and blue.npy respectively. Let's load these images, and visualize them."
      ]
    },
    {
      "cell_type": "code",
      "execution_count": null,
      "metadata": {
        "id": "urv3f01qiinT"
      },
      "outputs": [],
      "source": [
        "# Load libraries and convenience functions\n",
        "\n",
        "from IPython import display\n",
        "import matplotlib.pyplot as plt\n",
        "import numpy as np\n",
        "\n",
        "def load_image(filename):\n",
        "    img = np.load(filename)\n",
        "    img = img.astype(\"float32\") / 255.\n",
        "    return img\n",
        "\n",
        "def gray2rgb(image):\n",
        "    return np.repeat(np.expand_dims(image, 2), 3, axis=2)\n",
        "\n",
        "def show_image(img):\n",
        "    plt.imshow(img, interpolation='nearest')"
      ]
    },
    {
      "cell_type": "code",
      "source": [
        "# Download data\n",
        "!wget https://www.cs.columbia.edu/~vondrick/class/coms4732/hw0/blue.npy\n",
        "!wget https://www.cs.columbia.edu/~vondrick/class/coms4732/hw0/red.npy\n",
        "!wget https://www.cs.columbia.edu/~vondrick/class/coms4732/hw0/green.npy"
      ],
      "metadata": {
        "id": "DjYgZQAbb0ZF"
      },
      "execution_count": null,
      "outputs": []
    },
    {
      "cell_type": "code",
      "execution_count": null,
      "metadata": {
        "id": "Ftj_FbcGiinT"
      },
      "outputs": [],
      "source": [
        "import base64\n",
        "\n",
        "images = [load_image('red.npy'),\n",
        "          load_image('green.npy'),\n",
        "          load_image('blue.npy')]\n",
        "\n",
        "show_image(gray2rgb(np.concatenate(images, axis=1)))"
      ]
    },
    {
      "cell_type": "markdown",
      "metadata": {
        "id": "W-lyc7YwiinU"
      },
      "source": [
        "The Problem\n",
        "-----------\n",
        "Because these images were taken separately, just combining them in a 3-channel matrix may not work. The code below shows what happens if you simply combine the images without shifting any of the channels. Run the code to visualize what happens if you just combine them without correctly aligning them."
      ]
    },
    {
      "cell_type": "code",
      "execution_count": null,
      "metadata": {
        "id": "j3fhtN-YiinU"
      },
      "outputs": [],
      "source": [
        "show_image(np.stack(images, axis=-1))"
      ]
    },
    {
      "cell_type": "markdown",
      "metadata": {
        "id": "eyjZhzAxiinU"
      },
      "source": [
        "Your Task\n",
        "---------\n",
        "\n",
        "Your job is to write a function that takes these three images, and correctly aligns them. Since you have to process many of these images, you do not want to manually align them. Instead, your task is to write a program that automatically finds the alignment, then combines them together to produce the final image.\n",
        "\n",
        "The easiest way to do this is to find the alignment between two pairs of channels at a time. For example, you can figure out how to align the red channel with the green channel, and the red channel with the blue channel. Then, you can combine them together.\n",
        "\n",
        "We have given you code to get you started. You should fill in three areas:\n",
        "\n",
        "1. **score_function(im1, im2)** should take in two images, and return a floating point score to indicate how well the two images are aligned. The lower the score, the better they are aligned. There are many scoring functions you can experiment with. The simplest is Euclidean distance betwen the two images.\n",
        "\n",
        "2. **align_channels(chan1, chan2)** should take in two images, and return a tuple (dy, dx) indicating how to shift one image into the other. This funnction should call **score_function()** to perform this task. For simplicity, you can assume that the shift is at most -30 pixels to 30 pixels.\n",
        "\n",
        "3. **combine_images()** should use the found alignments to correctly combine the images into a color image.\n",
        "\n",
        "Submission\n",
        "----------\n",
        "\n",
        "You should export your completed notebook as a PDF and upload to Courseworks. The completed notebook should show your code, as well as the final combined image you created."
      ]
    },
    {
      "cell_type": "code",
      "source": [
        "# Store the height and width of the images\n",
        "height, width = images[0].shape\n",
        "\n",
        "# Pad each image with black by 30 pixels. You do not need to use this, but\n",
        "# padding may make your implementation easier.\n",
        "pad_size = 30\n",
        "images_pad = [np.pad(x, pad_size, mode='constant') for x in images]\n",
        "\n",
        "# Given two matrices, write a function that returns a number of how well they are aligned.\n",
        "# The lower the number, the better they are aligned. There are a variety of scoring functions\n",
        "# you can use. The simplest one is the Euclidean distance between the two matrices.\n",
        "def score_function(im1, im2):\n",
        "    return np.sqrt(np.sum((im1 - im2) ** 2))\n",
        "\n",
        "# Given two matrices chan1 and chan2, return a tuple of how to shift chan2 into chan1. This\n",
        "# function should search over many different shifts, and find the best shift that minimizes\n",
        "# the scoring function defined above.\n",
        "def align_channels(chan1, chan2):\n",
        "    best_score = float('inf')\n",
        "    best_offset = (0, 0)\n",
        "\n",
        "    # Search over possible shifts\n",
        "    for dy in range(-30, 31):\n",
        "        for dx in range(-30, 31):\n",
        "            # Shift chan2 by (dy, dx)\n",
        "            shifted_chan2 = np.roll(chan2, (dy, dx), axis=(0, 1))\n",
        "\n",
        "            # Calculate the score\n",
        "            score = score_function(chan1, shifted_chan2)\n",
        "\n",
        "            # Update the best score and offset\n",
        "            if score < best_score:\n",
        "                best_score = score\n",
        "                best_offset = (dy, dx)\n",
        "\n",
        "    return best_offset\n",
        "\n",
        "# Use the best alignments to now combine the three images. You should use any of the variables\n",
        "# above to return a tensor that is (Height)x(Width)x3, which is a color image that you can visualize.\n",
        "def combine_images():\n",
        "    # Load the padded images\n",
        "    red_pad = images_pad[0]\n",
        "    green_pad = images_pad[1]\n",
        "    blue_pad = images_pad[2]\n",
        "\n",
        "    # Get the alignment offsets\n",
        "    rg_dy, rg_dx = align_channels(red_pad, green_pad)\n",
        "    rb_dy, rb_dx = align_channels(red_pad, blue_pad)\n",
        "\n",
        "    # Shift the green and blue channels to align with the red channel\n",
        "    green_aligned = np.roll(green_pad, (rg_dy, rg_dx), axis=(0, 1))\n",
        "    blue_aligned = np.roll(blue_pad, (rb_dy, rb_dx), axis=(0, 1))\n",
        "\n",
        "    # Crop the images to remove the padding\n",
        "    red_cropped = red_pad[pad_size:-pad_size, pad_size:-pad_size]\n",
        "    green_cropped = green_aligned[pad_size:-pad_size, pad_size:-pad_size]\n",
        "    blue_cropped = blue_aligned[pad_size:-pad_size, pad_size:-pad_size]\n",
        "\n",
        "    # Combine the channels into a single color image\n",
        "    final_image = np.stack([red_cropped, green_cropped, blue_cropped], axis=-1)\n",
        "\n",
        "    # Normalize the image to the range [0, 1] for visualization\n",
        "    final_image = (final_image - final_image.min()) / (final_image.max() - final_image.min())\n",
        "\n",
        "    return final_image\n",
        "\n",
        "# Load the images (assuming they are already loaded into images_pad)\n",
        "images_pad = [np.load('red.npy'), np.load('green.npy'), np.load('blue.npy')]\n",
        "\n",
        "# Combine the images\n",
        "final_image = combine_images()\n",
        "\n",
        "# Visualize the final image\n",
        "if final_image is not None:\n",
        "    import matplotlib.pyplot as plt\n",
        "    plt.figure(figsize=(10, 10))\n",
        "    plt.imshow(final_image)\n",
        "    plt.axis('off')\n",
        "    plt.show()"
      ],
      "metadata": {
        "id": "ac_SS1mLsQe5"
      },
      "execution_count": null,
      "outputs": []
    },
    {
      "cell_type": "markdown",
      "metadata": {
        "id": "3HWKXH5UiinV"
      },
      "source": [
        "Acknowledgements\n",
        "----------------\n",
        "\n",
        "This homework is based on assignments from Subhransu Maji at University of Massachusetts, Amherst, Alyosha Efros at University of California, Berkeley, Jia Deng at University of Michigan, and Deva Ramanan at Carnegie Mellon University."
      ]
    }
  ],
  "metadata": {
    "colab": {
      "provenance": [],
      "private_outputs": true,
      "machine_shape": "hm"
    },
    "kernelspec": {
      "display_name": "Python 3",
      "name": "python3"
    },
    "language_info": {
      "codemirror_mode": {
        "name": "ipython",
        "version": 3
      },
      "file_extension": ".py",
      "mimetype": "text/x-python",
      "name": "python",
      "nbconvert_exporter": "python",
      "pygments_lexer": "ipython3",
      "version": "3.10.6"
    }
  },
  "nbformat": 4,
  "nbformat_minor": 0
}